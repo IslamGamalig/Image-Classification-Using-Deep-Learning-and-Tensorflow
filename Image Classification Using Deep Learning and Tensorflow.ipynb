{
 "cells": [
  {
   "cell_type": "code",
   "execution_count": null,
   "id": "4c01dffb-e492-4734-896f-ba7a457f0fb9",
   "metadata": {},
   "outputs": [],
   "source": [
    "pip install tensorflow pandas Pillow matplotlib\n"
   ]
  },
  {
   "cell_type": "code",
   "execution_count": null,
   "id": "1028a20c-91b7-4821-8ae1-ccb3c3e90586",
   "metadata": {},
   "outputs": [],
   "source": [
    "breeds = [\"beagle\", \"bernese_mountain_dog\", \"doberman\", \"labrador_retriever\", \"siberian_husky\"]"
   ]
  },
  {
   "cell_type": "code",
   "execution_count": null,
   "id": "2a5771d2-e4e9-451c-a85f-ee1b5aeb89cc",
   "metadata": {},
   "outputs": [],
   "source": [
    "import tensorflow as tf\n"
   ]
  },
  {
   "cell_type": "code",
   "execution_count": null,
   "id": "b4a33e5e-07ce-468d-b71d-2fb7dc83f48d",
   "metadata": {},
   "outputs": [],
   "source": [
    "args = {\n",
    "    \"labels\": \"inferred\",\n",
    "    \"label_mode\": \"categorical\",\n",
    "    \"batch_size\": 32,\n",
    "    \"image_size\": (256, 256),\n",
    "    \"seed\": 1,\n",
    "    \"validation_split\": .2,\n",
    "    \"class_names\": breeds\n",
    "}"
   ]
  }
 ],
 "metadata": {
  "kernelspec": {
   "display_name": "Python 3 (ipykernel)",
   "language": "python",
   "name": "python3"
  },
  "language_info": {
   "codemirror_mode": {
    "name": "ipython",
    "version": 3
   },
   "file_extension": ".py",
   "mimetype": "text/x-python",
   "name": "python",
   "nbconvert_exporter": "python",
   "pygments_lexer": "ipython3",
   "version": "3.11.9"
  }
 },
 "nbformat": 4,
 "nbformat_minor": 5
}
